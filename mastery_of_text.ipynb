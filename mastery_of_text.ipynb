{
 "cells": [
  {
   "cell_type": "code",
   "execution_count": 1,
   "id": "9ead366a-f19c-4843-837f-349539936348",
   "metadata": {},
   "outputs": [],
   "source": [
    "import urllib.request\n",
    "response = urllib.request.urlopen(\"https://www.gutenberg.org/cache/epub/10/pg10.txt\")\n",
    "pg10 = response.read().decode('utf-8')"
   ]
  },
  {
   "cell_type": "code",
   "execution_count": 2,
   "id": "77635fd9-2f9a-47b5-8335-756db171be55",
   "metadata": {},
   "outputs": [],
   "source": [
    "lineamt = len(pg10.splitlines())"
   ]
  },
  {
   "cell_type": "code",
   "execution_count": 6,
   "id": "0f651013-ca71-4f6a-9370-34621e07bf27",
   "metadata": {},
   "outputs": [],
   "source": [
    "def extract(text):\n",
    "    words = [ ]\n",
    "    word_counter = \"\"\n",
    "\n",
    "    for letter in text:\n",
    "        if letter.isalpha():\n",
    "            word_counter += letter\n",
    "        else:\n",
    "            if word_counter:\n",
    "                words.append(word_counter)\n",
    "                word_counter = \"\"\n",
    "\n",
    "    if word_counter:\n",
    "        words.append(word_counter)\n",
    "\n",
    "    return words"
   ]
  },
  {
   "cell_type": "code",
   "execution_count": 7,
   "id": "5d8199ff-e3dc-45e8-8d19-28587357f85e",
   "metadata": {},
   "outputs": [],
   "source": [
    "gut_words = extract(pg10)\n",
    "\n",
    "apostleamt = 0\n",
    "for word in gut_words:\n",
    "    if word.lower() == \"apostle\":\n",
    "        apostleamt = apostleamt + 1"
   ]
  },
  {
   "cell_type": "code",
   "execution_count": 8,
   "id": "4c2de6cb-2ce2-4be9-8894-79eaa630137e",
   "metadata": {},
   "outputs": [],
   "source": [
    "word_app = {} #num of times unique words appear\n",
    "for word in gut_words:\n",
    "    word = word.lower() #lowercase\n",
    "    if word in word_app:\n",
    "        word_app[word]+=1\n",
    "    else:\n",
    "        word_app[word]=1 "
   ]
  },
  {
   "cell_type": "code",
   "execution_count": 9,
   "id": "a4521294-5f69-423d-a84d-d923fc18b1fa",
   "metadata": {},
   "outputs": [],
   "source": [
    "maxamt = 0\n",
    "common = None\n",
    "for word, count in word_app.items():  #most words\n",
    "    if count > maxamt:\n",
    "        common = word\n",
    "        maxamt = count"
   ]
  },
  {
   "cell_type": "code",
   "execution_count": 12,
   "id": "7f06d10d-a090-4842-b14f-a5ade573e6bd",
   "metadata": {},
   "outputs": [
    {
     "name": "stdout",
     "output_type": "stream",
     "text": [
      "# of lines: 99968\n",
      "# of words: 795227\n",
      "# of apostle word appearances: 47\n",
      "most common word: the\n"
     ]
    }
   ],
   "source": [
    "print(\"# of lines:\", lineamt)\n",
    "print(\"# of words:\", len(gut_words))\n",
    "print(\"# of apostle word appearances:\", apostleamt)\n",
    "print(\"most common word:\", common)"
   ]
  },
  {
   "cell_type": "code",
   "execution_count": null,
   "id": "3e29df3f-187d-4a31-9475-1a9c52fff5ef",
   "metadata": {},
   "outputs": [],
   "source": []
  }
 ],
 "metadata": {
  "kernelspec": {
   "display_name": "Python [conda env:base] *",
   "language": "python",
   "name": "conda-base-py"
  },
  "language_info": {
   "codemirror_mode": {
    "name": "ipython",
    "version": 3
   },
   "file_extension": ".py",
   "mimetype": "text/x-python",
   "name": "python",
   "nbconvert_exporter": "python",
   "pygments_lexer": "ipython3",
   "version": "3.12.7"
  }
 },
 "nbformat": 4,
 "nbformat_minor": 5
}
